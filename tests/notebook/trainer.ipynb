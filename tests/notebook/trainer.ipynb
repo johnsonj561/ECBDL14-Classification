{
 "cells": [
  {
   "cell_type": "code",
   "execution_count": null,
   "metadata": {
    "scrolled": true
   },
   "outputs": [],
   "source": [
    "import pandas as pd\n",
    "import numpy as np\n",
    "import os\n",
    "import sys\n",
    "import datetime\n",
    "from sklearn.model_selection import StratifiedKFold, ParameterGrid\n",
    "sys.path.append(os.environ['CMS_ROOT'])\n",
    "from cms_modules.utils import model_summary_to_string, args_to_dict\n",
    "from cms_modules.logging import Logger\n",
    "\n",
    "import tensorflow as tf\n",
    "EarlyStopping = tf.keras.callbacks.EarlyStopping\n",
    "TensorBoard = tf.keras.callbacks.TensorBoard\n",
    "# ReduceLROnPlateau = tf.keras.callbacks.ReduceLROnPlateau\n",
    "\n",
    "ecbdl14_root = '/Users/jujohnson/git/ECBDL14-Classification'\n",
    "# ecbdl14_root = '/home/jjohn273/git/ECBDL14-Classification/'\n",
    "sys.path.append(ecbdl14_root)\n",
    "from model import create_model\n",
    "from CustomCallbacks import KerasRocAucCallback"
   ]
  },
  {
   "cell_type": "markdown",
   "metadata": {},
   "source": [
    "### Define Model Config"
   ]
  },
  {
   "cell_type": "code",
   "execution_count": null,
   "metadata": {},
   "outputs": [],
   "source": [
    "config = {\n",
    "    'hidden_layers': [128, 128, 64, 32],\n",
    "    'learn_rate': 0.001,\n",
    "    'batch_size': 256,\n",
    "    'dropout_rate': 0.2,\n",
    "    'batchnorm': True\n",
    "}\n",
    "\n",
    "epochs = 40\n",
    "debug = True"
   ]
  },
  {
   "cell_type": "markdown",
   "metadata": {},
   "source": [
    "### Define I/O Paths"
   ]
  },
  {
   "cell_type": "code",
   "execution_count": null,
   "metadata": {},
   "outputs": [],
   "source": [
    "# inputs\n",
    "data_path = os.path.join(ecbdl14_root, 'data/ecbdl14.onehot.sample.hdf')\n",
    "data_key = 'train'\n",
    "# outputs\n",
    "now = datetime.datetime.today()\n",
    "ts = now.strftime(\"%m%d%y-%H%M%S\")\n",
    "architecture_output = 'model-architecture.json'"
   ]
  },
  {
   "cell_type": "markdown",
   "metadata": {},
   "source": [
    "### Init Logger"
   ]
  },
  {
   "cell_type": "code",
   "execution_count": null,
   "metadata": {},
   "outputs": [],
   "source": [
    "log_file = f'logs/{ts}.txt'\n",
    "logger = Logger(log_file)\n",
    "logger.log_time('Starting trainer')\n",
    "logger.write_to_file()"
   ]
  },
  {
   "cell_type": "markdown",
   "metadata": {},
   "source": [
    "### Load Data"
   ]
  },
  {
   "cell_type": "code",
   "execution_count": null,
   "metadata": {},
   "outputs": [],
   "source": [
    "df = pd.read_hdf(data_path, data_key)\n",
    "logger.log_time(f'Loaded data with shape {df.shape}').write_to_file()\n",
    "if debug:\n",
    "    y, x = df[:10000]['target'], df[:10000].drop(columns=['target'])\n",
    "else:\n",
    "    y, x = df['target'], df.drop(columns=['target'])"
   ]
  },
  {
   "cell_type": "code",
   "execution_count": null,
   "metadata": {},
   "outputs": [],
   "source": [
    "def write_model(model, path):\n",
    "    json = model.to_json()\n",
    "    with open(path, 'w') as out:\n",
    "        out.write(json)"
   ]
  },
  {
   "cell_type": "markdown",
   "metadata": {},
   "source": [
    "### Iterate Over Runs"
   ]
  },
  {
   "cell_type": "code",
   "execution_count": null,
   "metadata": {},
   "outputs": [],
   "source": [
    "for run in runs:\n",
    "    logger.log_time(f'Starting run {run}')).write_to_file()\n",
    "    # prepare input data\n",
    "    x_train, y_train = x.iloc[train_index].values, y.iloc[train_index].values\n",
    "    x_valid, y_valid = x.iloc[validate_index].values, y.iloc[validate_index].values\n",
    "    input_dim = x_train.shape[1]\n",
    "        \n",
    "    # create model and save architecture to file if does not exist\n",
    "    dnn = create_model(input_dim, config)\n",
    "    if not os.path.isfile(architecture_output):\n",
    "        write_model(dnn, architecture_output)\n",
    "        print(f'Model architecture saved to {architecture_output}')\n",
    "\n",
    "    # train model\n",
    "    logger.log_time('Starting training...').write_to_file()\n",
    "    dnn.fit(x_train, y_train, epochs=epochs, verbose=0)\n",
    "    logger.log_time('Trainin complete!').write_to_file()\n",
    "    \n",
    "    # save weights\n",
    "    out = f'{experiment}-{run}-model.h5'\n",
    "    dnn.save_weights(out)\n",
    "    logger.log_time(f'Model weights saved to {out}')"
   ]
  },
  {
   "cell_type": "code",
   "execution_count": null,
   "metadata": {},
   "outputs": [],
   "source": [
    "logger.log_time('Job complete...').write_to_file()"
   ]
  }
 ],
 "metadata": {
  "kernelspec": {
   "display_name": "Python 3",
   "language": "python",
   "name": "python3"
  },
  "language_info": {
   "codemirror_mode": {
    "name": "ipython",
    "version": 3
   },
   "file_extension": ".py",
   "mimetype": "text/x-python",
   "name": "python",
   "nbconvert_exporter": "python",
   "pygments_lexer": "ipython3",
   "version": "3.6.9"
  }
 },
 "nbformat": 4,
 "nbformat_minor": 4
}
