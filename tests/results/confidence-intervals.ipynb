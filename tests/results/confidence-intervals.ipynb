{
 "cells": [
  {
   "cell_type": "code",
   "execution_count": 22,
   "metadata": {},
   "outputs": [],
   "source": [
    "import pandas as pd\n",
    "import seaborn as sns\n",
    "import matplotlib.pyplot as plt\n",
    "from scipy.stats import t\n",
    "import math"
   ]
  },
  {
   "cell_type": "code",
   "execution_count": 23,
   "metadata": {},
   "outputs": [],
   "source": [
    "data = pd.read_csv('results.csv')"
   ]
  },
  {
   "cell_type": "markdown",
   "metadata": {},
   "source": [
    "### Geometric Mean Confidence Intervals"
   ]
  },
  {
   "cell_type": "code",
   "execution_count": 36,
   "metadata": {},
   "outputs": [],
   "source": [
    "confidence = 0.95\n",
    "\n",
    "z_val = 1.96"
   ]
  },
  {
   "cell_type": "code",
   "execution_count": 37,
   "metadata": {},
   "outputs": [
    {
     "data": {
      "text/html": [
       "<div>\n",
       "<style scoped>\n",
       "    .dataframe tbody tr th:only-of-type {\n",
       "        vertical-align: middle;\n",
       "    }\n",
       "\n",
       "    .dataframe tbody tr th {\n",
       "        vertical-align: top;\n",
       "    }\n",
       "\n",
       "    .dataframe thead th {\n",
       "        text-align: right;\n",
       "    }\n",
       "</style>\n",
       "<table border=\"1\" class=\"dataframe\">\n",
       "  <thead>\n",
       "    <tr style=\"text-align: right;\">\n",
       "      <th></th>\n",
       "      <th>strategy</th>\n",
       "      <th>mean</th>\n",
       "      <th>std</th>\n",
       "      <th>n</th>\n",
       "      <th>t-val</th>\n",
       "      <th>lower_ci</th>\n",
       "      <th>upper_ci</th>\n",
       "    </tr>\n",
       "  </thead>\n",
       "  <tbody>\n",
       "    <tr>\n",
       "      <th>0</th>\n",
       "      <td>default</td>\n",
       "      <td>0.442057</td>\n",
       "      <td>0.283656</td>\n",
       "      <td>390</td>\n",
       "      <td>1.96</td>\n",
       "      <td>0.413904</td>\n",
       "      <td>0.470209</td>\n",
       "    </tr>\n",
       "    <tr>\n",
       "      <th>1</th>\n",
       "      <td>optimal</td>\n",
       "      <td>0.733380</td>\n",
       "      <td>0.013250</td>\n",
       "      <td>390</td>\n",
       "      <td>1.96</td>\n",
       "      <td>0.732065</td>\n",
       "      <td>0.734695</td>\n",
       "    </tr>\n",
       "    <tr>\n",
       "      <th>2</th>\n",
       "      <td>theoretical</td>\n",
       "      <td>0.732003</td>\n",
       "      <td>0.015397</td>\n",
       "      <td>390</td>\n",
       "      <td>1.96</td>\n",
       "      <td>0.730474</td>\n",
       "      <td>0.733531</td>\n",
       "    </tr>\n",
       "  </tbody>\n",
       "</table>\n",
       "</div>"
      ],
      "text/plain": [
       "      strategy      mean       std    n  t-val  lower_ci  upper_ci\n",
       "0      default  0.442057  0.283656  390   1.96  0.413904  0.470209\n",
       "1      optimal  0.733380  0.013250  390   1.96  0.732065  0.734695\n",
       "2  theoretical  0.732003  0.015397  390   1.96  0.730474  0.733531"
      ]
     },
     "execution_count": 37,
     "metadata": {},
     "output_type": "execute_result"
    }
   ],
   "source": [
    "results = []\n",
    "\n",
    "for (group, df) in data.groupby('strategy'):\n",
    "    m = df['geometric_mean'].mean()\n",
    "    std = df['geometric_mean'].std()\n",
    "    n = len(df)\n",
    "    if n > 30:\n",
    "        t_val = z_val\n",
    "    else:\n",
    "        t_val = t.ppf((1 + confidence) / 2, n - 1)\n",
    "    h = (std * t_val) / math.sqrt(n)\n",
    "    lower_ci, upper_ci = m - h, m + h\n",
    "    \n",
    "    results.append([group, m, std, n, t_val, lower_ci, upper_ci])\n",
    "    \n",
    "pd.DataFrame(results, columns=['strategy', 'mean', 'std', 'n', 't-val', 'lower_ci', 'upper_ci'])"
   ]
  },
  {
   "cell_type": "markdown",
   "metadata": {},
   "source": [
    "### TPR Confidence Intervals"
   ]
  },
  {
   "cell_type": "code",
   "execution_count": 38,
   "metadata": {},
   "outputs": [
    {
     "data": {
      "text/html": [
       "<div>\n",
       "<style scoped>\n",
       "    .dataframe tbody tr th:only-of-type {\n",
       "        vertical-align: middle;\n",
       "    }\n",
       "\n",
       "    .dataframe tbody tr th {\n",
       "        vertical-align: top;\n",
       "    }\n",
       "\n",
       "    .dataframe thead th {\n",
       "        text-align: right;\n",
       "    }\n",
       "</style>\n",
       "<table border=\"1\" class=\"dataframe\">\n",
       "  <thead>\n",
       "    <tr style=\"text-align: right;\">\n",
       "      <th></th>\n",
       "      <th>strategy</th>\n",
       "      <th>mean</th>\n",
       "      <th>std</th>\n",
       "      <th>n</th>\n",
       "      <th>t-val</th>\n",
       "      <th>lower_ci</th>\n",
       "      <th>upper_ci</th>\n",
       "    </tr>\n",
       "  </thead>\n",
       "  <tbody>\n",
       "    <tr>\n",
       "      <th>0</th>\n",
       "      <td>default</td>\n",
       "      <td>0.462172</td>\n",
       "      <td>0.371949</td>\n",
       "      <td>390</td>\n",
       "      <td>1.96</td>\n",
       "      <td>0.425256</td>\n",
       "      <td>0.499087</td>\n",
       "    </tr>\n",
       "    <tr>\n",
       "      <th>1</th>\n",
       "      <td>optimal</td>\n",
       "      <td>0.727628</td>\n",
       "      <td>0.021129</td>\n",
       "      <td>390</td>\n",
       "      <td>1.96</td>\n",
       "      <td>0.725531</td>\n",
       "      <td>0.729725</td>\n",
       "    </tr>\n",
       "    <tr>\n",
       "      <th>2</th>\n",
       "      <td>theoretical</td>\n",
       "      <td>0.719532</td>\n",
       "      <td>0.035033</td>\n",
       "      <td>390</td>\n",
       "      <td>1.96</td>\n",
       "      <td>0.716055</td>\n",
       "      <td>0.723009</td>\n",
       "    </tr>\n",
       "  </tbody>\n",
       "</table>\n",
       "</div>"
      ],
      "text/plain": [
       "      strategy      mean       std    n  t-val  lower_ci  upper_ci\n",
       "0      default  0.462172  0.371949  390   1.96  0.425256  0.499087\n",
       "1      optimal  0.727628  0.021129  390   1.96  0.725531  0.729725\n",
       "2  theoretical  0.719532  0.035033  390   1.96  0.716055  0.723009"
      ]
     },
     "execution_count": 38,
     "metadata": {},
     "output_type": "execute_result"
    }
   ],
   "source": [
    "results = []\n",
    "\n",
    "for (group, df) in data.groupby('strategy'):\n",
    "    m = df['tpr'].mean()\n",
    "    std = df['tpr'].std()\n",
    "    n = len(df)\n",
    "    if n > 30:\n",
    "        t_val = z_val\n",
    "    else:\n",
    "        t_val = t.ppf((1 + confidence) / 2, n - 1)\n",
    "    h = (std * t_val) / math.sqrt(n)\n",
    "    lower_ci, upper_ci = m - h, m + h\n",
    "    \n",
    "    results.append([group, m, std, n, t_val, lower_ci, upper_ci])\n",
    "\n",
    "pd.DataFrame(results, columns=['strategy', 'mean', 'std', 'n', 't-val', 'lower_ci', 'upper_ci'])"
   ]
  },
  {
   "cell_type": "markdown",
   "metadata": {},
   "source": [
    "### TNR Confidence Intervals\n"
   ]
  },
  {
   "cell_type": "code",
   "execution_count": 48,
   "metadata": {},
   "outputs": [
    {
     "data": {
      "text/html": [
       "<div>\n",
       "<style scoped>\n",
       "    .dataframe tbody tr th:only-of-type {\n",
       "        vertical-align: middle;\n",
       "    }\n",
       "\n",
       "    .dataframe tbody tr th {\n",
       "        vertical-align: top;\n",
       "    }\n",
       "\n",
       "    .dataframe thead th {\n",
       "        text-align: right;\n",
       "    }\n",
       "</style>\n",
       "<table border=\"1\" class=\"dataframe\">\n",
       "  <thead>\n",
       "    <tr style=\"text-align: right;\">\n",
       "      <th></th>\n",
       "      <th>strategy</th>\n",
       "      <th>mean</th>\n",
       "      <th>std</th>\n",
       "      <th>n</th>\n",
       "      <th>t-val</th>\n",
       "      <th>lower_ci</th>\n",
       "      <th>upper_ci</th>\n",
       "    </tr>\n",
       "  </thead>\n",
       "  <tbody>\n",
       "    <tr>\n",
       "      <th>0</th>\n",
       "      <td>default</td>\n",
       "      <td>0.782523</td>\n",
       "      <td>0.260588</td>\n",
       "      <td>390</td>\n",
       "      <td>1.96</td>\n",
       "      <td>0.756661</td>\n",
       "      <td>0.808386</td>\n",
       "    </tr>\n",
       "    <tr>\n",
       "      <th>1</th>\n",
       "      <td>optimal</td>\n",
       "      <td>0.739879</td>\n",
       "      <td>0.030381</td>\n",
       "      <td>390</td>\n",
       "      <td>1.96</td>\n",
       "      <td>0.736864</td>\n",
       "      <td>0.742894</td>\n",
       "    </tr>\n",
       "    <tr>\n",
       "      <th>2</th>\n",
       "      <td>theoretical</td>\n",
       "      <td>0.746998</td>\n",
       "      <td>0.049189</td>\n",
       "      <td>390</td>\n",
       "      <td>1.96</td>\n",
       "      <td>0.742116</td>\n",
       "      <td>0.751880</td>\n",
       "    </tr>\n",
       "  </tbody>\n",
       "</table>\n",
       "</div>"
      ],
      "text/plain": [
       "      strategy      mean       std    n  t-val  lower_ci  upper_ci\n",
       "0      default  0.782523  0.260588  390   1.96  0.756661  0.808386\n",
       "1      optimal  0.739879  0.030381  390   1.96  0.736864  0.742894\n",
       "2  theoretical  0.746998  0.049189  390   1.96  0.742116  0.751880"
      ]
     },
     "execution_count": 48,
     "metadata": {},
     "output_type": "execute_result"
    }
   ],
   "source": [
    "results = []\n",
    "\n",
    "for (group, df) in data.groupby('strategy'):\n",
    "    m = df['tnr'].mean()\n",
    "    std = df['tnr'].std()\n",
    "    n = len(df)\n",
    "    if n > 30:\n",
    "        t_val = z_val\n",
    "    else:\n",
    "        t_val = t.ppf((1 + confidence) / 2, n - 1)\n",
    "    h = (std * t_val) / math.sqrt(n)\n",
    "    lower_ci, upper_ci = m - h, m + h\n",
    "    \n",
    "    results.append([group, m, std, n, t_val, lower_ci, upper_ci])\n",
    "\n",
    "pd.DataFrame(results, columns=['strategy', 'mean', 'std', 'n', 't-val', 'lower_ci', 'upper_ci'])"
   ]
  },
  {
   "cell_type": "code",
   "execution_count": 40,
   "metadata": {},
   "outputs": [
    {
     "data": {
      "text/html": [
       "<div>\n",
       "<style scoped>\n",
       "    .dataframe tbody tr th:only-of-type {\n",
       "        vertical-align: middle;\n",
       "    }\n",
       "\n",
       "    .dataframe tbody tr th {\n",
       "        vertical-align: top;\n",
       "    }\n",
       "\n",
       "    .dataframe thead th {\n",
       "        text-align: right;\n",
       "    }\n",
       "</style>\n",
       "<table border=\"1\" class=\"dataframe\">\n",
       "  <thead>\n",
       "    <tr style=\"text-align: right;\">\n",
       "      <th></th>\n",
       "      <th>minority_size</th>\n",
       "      <th>strategy</th>\n",
       "      <th>threshold</th>\n",
       "      <th>tp</th>\n",
       "      <th>fp</th>\n",
       "      <th>tn</th>\n",
       "      <th>fn</th>\n",
       "      <th>tpr</th>\n",
       "      <th>tnr</th>\n",
       "      <th>roc_auc</th>\n",
       "      <th>geometric_mean</th>\n",
       "      <th>arithmetic_mean</th>\n",
       "      <th>f1_score</th>\n",
       "      <th>precision</th>\n",
       "    </tr>\n",
       "  </thead>\n",
       "  <tbody>\n",
       "    <tr>\n",
       "      <th>0</th>\n",
       "      <td>1.0</td>\n",
       "      <td>optimal</td>\n",
       "      <td>0.010</td>\n",
       "      <td>11256</td>\n",
       "      <td>193696</td>\n",
       "      <td>491287</td>\n",
       "      <td>3761</td>\n",
       "      <td>0.749551</td>\n",
       "      <td>0.717225</td>\n",
       "      <td>0.809787</td>\n",
       "      <td>0.733210</td>\n",
       "      <td>0.733388</td>\n",
       "      <td>0.102342</td>\n",
       "      <td>0.054920</td>\n",
       "    </tr>\n",
       "    <tr>\n",
       "      <th>1</th>\n",
       "      <td>1.0</td>\n",
       "      <td>theoretical</td>\n",
       "      <td>0.010</td>\n",
       "      <td>11256</td>\n",
       "      <td>193696</td>\n",
       "      <td>491287</td>\n",
       "      <td>3761</td>\n",
       "      <td>0.749551</td>\n",
       "      <td>0.717225</td>\n",
       "      <td>0.809787</td>\n",
       "      <td>0.733210</td>\n",
       "      <td>0.733388</td>\n",
       "      <td>0.102342</td>\n",
       "      <td>0.054920</td>\n",
       "    </tr>\n",
       "    <tr>\n",
       "      <th>2</th>\n",
       "      <td>1.0</td>\n",
       "      <td>default</td>\n",
       "      <td>0.500</td>\n",
       "      <td>0</td>\n",
       "      <td>0</td>\n",
       "      <td>684983</td>\n",
       "      <td>15017</td>\n",
       "      <td>0.000000</td>\n",
       "      <td>1.000000</td>\n",
       "      <td>0.809787</td>\n",
       "      <td>0.000000</td>\n",
       "      <td>0.500000</td>\n",
       "      <td>0.000000</td>\n",
       "      <td>0.000000</td>\n",
       "    </tr>\n",
       "    <tr>\n",
       "      <th>3</th>\n",
       "      <td>0.5</td>\n",
       "      <td>optimal</td>\n",
       "      <td>0.003</td>\n",
       "      <td>11386</td>\n",
       "      <td>215285</td>\n",
       "      <td>469698</td>\n",
       "      <td>3631</td>\n",
       "      <td>0.758207</td>\n",
       "      <td>0.685708</td>\n",
       "      <td>0.797226</td>\n",
       "      <td>0.721047</td>\n",
       "      <td>0.721957</td>\n",
       "      <td>0.094221</td>\n",
       "      <td>0.050231</td>\n",
       "    </tr>\n",
       "    <tr>\n",
       "      <th>4</th>\n",
       "      <td>0.5</td>\n",
       "      <td>theoretical</td>\n",
       "      <td>0.005</td>\n",
       "      <td>9064</td>\n",
       "      <td>116142</td>\n",
       "      <td>568841</td>\n",
       "      <td>5953</td>\n",
       "      <td>0.603583</td>\n",
       "      <td>0.830445</td>\n",
       "      <td>0.797226</td>\n",
       "      <td>0.707985</td>\n",
       "      <td>0.717014</td>\n",
       "      <td>0.129280</td>\n",
       "      <td>0.072393</td>\n",
       "    </tr>\n",
       "  </tbody>\n",
       "</table>\n",
       "</div>"
      ],
      "text/plain": [
       "   minority_size     strategy  threshold     tp      fp      tn     fn  \\\n",
       "0            1.0      optimal      0.010  11256  193696  491287   3761   \n",
       "1            1.0  theoretical      0.010  11256  193696  491287   3761   \n",
       "2            1.0      default      0.500      0       0  684983  15017   \n",
       "3            0.5      optimal      0.003  11386  215285  469698   3631   \n",
       "4            0.5  theoretical      0.005   9064  116142  568841   5953   \n",
       "\n",
       "        tpr       tnr   roc_auc  geometric_mean  arithmetic_mean  f1_score  \\\n",
       "0  0.749551  0.717225  0.809787        0.733210         0.733388  0.102342   \n",
       "1  0.749551  0.717225  0.809787        0.733210         0.733388  0.102342   \n",
       "2  0.000000  1.000000  0.809787        0.000000         0.500000  0.000000   \n",
       "3  0.758207  0.685708  0.797226        0.721047         0.721957  0.094221   \n",
       "4  0.603583  0.830445  0.797226        0.707985         0.717014  0.129280   \n",
       "\n",
       "   precision  \n",
       "0   0.054920  \n",
       "1   0.054920  \n",
       "2   0.000000  \n",
       "3   0.050231  \n",
       "4   0.072393  "
      ]
     },
     "execution_count": 40,
     "metadata": {},
     "output_type": "execute_result"
    }
   ],
   "source": [
    "data.head()\n"
   ]
  },
  {
   "cell_type": "code",
   "execution_count": 44,
   "metadata": {},
   "outputs": [],
   "source": [
    "mask = data.strategy.isin(['optimal', 'theoretical'])"
   ]
  },
  {
   "cell_type": "code",
   "execution_count": 45,
   "metadata": {},
   "outputs": [
    {
     "data": {
      "text/plain": [
       "<matplotlib.axes._subplots.AxesSubplot at 0x1a1b0f76d8>"
      ]
     },
     "execution_count": 45,
     "metadata": {},
     "output_type": "execute_result"
    },
    {
     "data": {
      "image/png": "[encoded data removed]",
      "text/plain": [
       "<Figure size 432x288 with 1 Axes>"
      ]
     },
     "metadata": {
      "needs_background": "light"
     },
     "output_type": "display_data"
    }
   ],
   "source": [
    "sns.boxplot(data=data[mask], y='geometric_mean', x='strategy')"
   ]
  },
  {
   "cell_type": "code",
   "execution_count": 46,
   "metadata": {},
   "outputs": [
    {
     "data": {
      "text/plain": [
       "<matplotlib.axes._subplots.AxesSubplot at 0x1a1b512b70>"
      ]
     },
     "execution_count": 46,
     "metadata": {},
     "output_type": "execute_result"
    },
    {
     "data": {
      "image/png": "[encoded data removed]",
      "text/plain": [
       "<Figure size 432x288 with 1 Axes>"
      ]
     },
     "metadata": {
      "needs_background": "light"
     },
     "output_type": "display_data"
    }
   ],
   "source": [
    "sns.boxplot(data=data[mask], y='tpr', x='strategy')"
   ]
  },
  {
   "cell_type": "code",
   "execution_count": 47,
   "metadata": {},
   "outputs": [
    {
     "data": {
      "text/plain": [
       "<matplotlib.axes._subplots.AxesSubplot at 0x1a1ae45e10>"
      ]
     },
     "execution_count": 47,
     "metadata": {},
     "output_type": "execute_result"
    },
    {
     "data": {
      "image/png": "[encoded data removed]",
      "text/plain": [
       "<Figure size 432x288 with 1 Axes>"
      ]
     },
     "metadata": {
      "needs_background": "light"
     },
     "output_type": "display_data"
    }
   ],
   "source": [
    "sns.boxplot(data=data[mask], y='tnr', x='strategy')"
   ]
  },
  {
   "cell_type": "code",
   "execution_count": null,
   "metadata": {},
   "outputs": [],
   "source": [
    "b"
   ]
  }
 ],
 "metadata": {
  "kernelspec": {
   "display_name": "Python 3",
   "language": "python",
   "name": "python3"
  },
  "language_info": {
   "codemirror_mode": {
    "name": "ipython",
    "version": 3
   },
   "file_extension": ".py",
   "mimetype": "text/x-python",
   "name": "python",
   "nbconvert_exporter": "python",
   "pygments_lexer": "ipython3",
   "version": "3.6.9"
  }
 },
 "nbformat": 4,
 "nbformat_minor": 4
}
