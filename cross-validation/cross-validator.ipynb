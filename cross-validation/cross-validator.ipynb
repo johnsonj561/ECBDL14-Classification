{
 "cells": [
  {
   "cell_type": "code",
   "execution_count": 30,
   "metadata": {},
   "outputs": [],
   "source": [
    "import pandas as pd\n",
    "import numpy as np\n",
    "import os\n",
    "import sys\n",
    "import datetime\n",
    "sys.path.append(os.environ['CMS_ROOT'])\n",
    "from cms_modules.utils import model_summary_to_string\n",
    "from cms_modules.logging import Logger"
   ]
  },
  {
   "cell_type": "code",
   "execution_count": 31,
   "metadata": {},
   "outputs": [],
   "source": [
    "debug = True"
   ]
  },
  {
   "cell_type": "markdown",
   "metadata": {},
   "source": [
    "### Define I/O Paths"
   ]
  },
  {
   "cell_type": "code",
   "execution_count": 33,
   "metadata": {},
   "outputs": [],
   "source": [
    "ecbdl14_root = '~/git/ECBDL14-Classification/'\n",
    "sys.path.append(ecbdl14_root)\n",
    "from model import create_model, KerasAucCallback"
   ]
  },
  {
   "cell_type": "code",
   "execution_count": 18,
   "metadata": {},
   "outputs": [
    {
     "name": "stdout",
     "output_type": "stream",
     "text": [
      "Starting grid search job 0 min, 0 sec\n",
      "Outputs being written to ['011820-140707-configs.csv', '011820-140707-validation-auc-results.csv', '011820-140707-train-auc-results.csv']\n"
     ]
    }
   ],
   "source": [
    "# inputs\n",
    "data_path = os.path.join(ecbdl14_root, 'data/ecbdl14.onehot.sample.hdf')\n",
    "data_key = 'train'\n",
    "\n",
    "# outputs\n",
    "now = datetime.datetime.today()\n",
    "ts = now.strftime(\"%m%d%y-%H%M%S\")\n",
    "config_outputs = f'{ts}-configs.csv'\n",
    "validation_auc_outputs = f'{ts}-validation-auc-results.csv'\n",
    "train_auc_outputs = f'{ts}-train-auc-results.csv'\n",
    "\n",
    "logger = Logger()\n",
    "logger.log_time('Starting grid search job')\n",
    "logger.log_message(f'Outputs being written to {[config_outputs,validation_auc_outputs,train_auc_outputs]}')"
   ]
  },
  {
   "cell_type": "markdown",
   "metadata": {},
   "source": [
    "### Load Data"
   ]
  },
  {
   "cell_type": "code",
   "execution_count": 19,
   "metadata": {},
   "outputs": [
    {
     "name": "stdout",
     "output_type": "stream",
     "text": [
      "Loaded data with shape (700000, 201) 0 min, 7 sec\n"
     ]
    }
   ],
   "source": [
    "df = pd.read_hdf(data_path, data_key)\n",
    "logger.log_time(f'Loaded data with shape {df.shape}')"
   ]
  },
  {
   "cell_type": "markdown",
   "metadata": {},
   "source": [
    "### Take Subset of Data In Debug"
   ]
  },
  {
   "cell_type": "code",
   "execution_count": 20,
   "metadata": {},
   "outputs": [],
   "source": [
    "if debug:\n",
    "    y, x = df[:10000]['target'], df[:10000].drop(columns=['target'])\n",
    "else:\n",
    "    y, x = df['target'], df.drop(columns=['target'])"
   ]
  },
  {
   "cell_type": "markdown",
   "metadata": {},
   "source": [
    "### Define Grid Search and Model Params\n",
    "\n",
    "Due to known issues with GridSearch and Keras callbacks, we enumerate grid options and manually iterate over each configuration."
   ]
  },
  {
   "cell_type": "code",
   "execution_count": 21,
   "metadata": {},
   "outputs": [
    {
     "name": "stdout",
     "output_type": "stream",
     "text": [
      "Set up grid search parameters:\n",
      "{'batch_size': 128, 'batchnorm': True, 'dropout_rate': 0.5, 'hidden_layers': [32, 32], 'learn_rate': 0.001}\n",
      "{'batch_size': 256, 'batchnorm': True, 'dropout_rate': 0.5, 'hidden_layers': [32, 32], 'learn_rate': 0.001}\n"
     ]
    }
   ],
   "source": [
    "from sklearn.model_selection import StratifiedKFold, ParameterGrid\n",
    "\n",
    "stratified_cv = StratifiedKFold(n_splits=3, shuffle=True)\n",
    "\n",
    "hidden_layers = [[32,32],[64,64],[128,128],[128,64],[32,32,32],[64,64,64],[128,64,32,16]]\n",
    "\n",
    "param_grid = dict(\n",
    "  hidden_layers=hidden_layers,\n",
    "  learn_rate=[1e-3],\n",
    "  batch_size=[128,256],\n",
    "  dropout_rate=[None, 0.5],\n",
    "  batchnorm=[True, False])\n",
    "\n",
    "epochs = 250\n",
    "score_freq = 5\n",
    "\n",
    "param_grid_options = list(ParameterGrid(param_grid))\n",
    "\n",
    "logger.log_message('Set up grid search parameters:')\n",
    "for option in param_grid_options:\n",
    "    logger.log_message(f'{option}')"
   ]
  },
  {
   "cell_type": "markdown",
   "metadata": {},
   "source": [
    "### Write Headers to Output Files"
   ]
  },
  {
   "cell_type": "code",
   "execution_count": 22,
   "metadata": {},
   "outputs": [],
   "source": [
    "# initialize output csv headers\n",
    "config_header = 'config,hidden_layers,learn_rate,dropout,batchnorm'\n",
    "results_header = 'config,fold,' + ','.join([f'ep_{i}' for i in range(epochs) if i%score_freq == 0])\n",
    "output_files = [config_outputs, train_auc_outputs, validation_auc_outputs]\n",
    "output_headers = [config_header,results_header,results_header]\n",
    "\n",
    "for file, header in zip(output_files, output_headers):\n",
    "    with open(file, 'w') as fout:\n",
    "        fout.write(header + '\\n')\n",
    "        \n",
    "def write_results(file, results):\n",
    "    with open(file, 'a') as fout:\n",
    "        fout.write(results + '\\n')"
   ]
  },
  {
   "cell_type": "markdown",
   "metadata": {},
   "source": [
    "### Run Cross-Validation"
   ]
  },
  {
   "cell_type": "code",
   "execution_count": 29,
   "metadata": {
    "scrolled": false
   },
   "outputs": [
    {
     "name": "stdout",
     "output_type": "stream",
     "text": [
      "Starting cross-validation 9 min, 20 sec\n",
      "Using config: 0\n",
      "{'batch_size': 128, 'batchnorm': True, 'dropout_rate': 0.5, 'hidden_layers': [32, 32], 'learn_rate': 0.001, 'fold': 3}\n",
      "Starting fold 0 for config 0 9 min, 20 sec\n",
      "Model summary for configuration: 0,layers:32|32,learn_rate:0.001,dropout:0.5,batchnorm:True\n",
      "Model Summary:\n",
      "_________________________________________________________________\n",
      "Layer (type)                 Output Shape              Param #   \n",
      "=================================================================\n",
      "dense_19 (Dense)             (None, 32)                6432      \n",
      "_________________________________________________________________\n",
      "batch_normalization_13 (Batc (None, 32)                128       \n",
      "_________________________________________________________________\n",
      "activation_13 (Activation)   (None, 32)                0         \n",
      "_________________________________________________________________\n",
      "dropout_13 (Dropout)         (None, 32)                0         \n",
      "_________________________________________________________________\n",
      "dense_20 (Dense)             (None, 32)                1056      \n",
      "_________________________________________________________________\n",
      "batch_normalization_14 (Batc (None, 32)                128       \n",
      "_________________________________________________________________\n",
      "activation_14 (Activation)   (None, 32)                0         \n",
      "_________________________________________________________________\n",
      "dropout_14 (Dropout)         (None, 32)                0         \n",
      "_________________________________________________________________\n",
      "dense_21 (Dense)             (None, 1)                 33        \n",
      "=================================================================\n",
      "Total params: 7,777\n",
      "Trainable params: 7,649\n",
      "Non-trainable params: 128\n",
      "_________________________________________________________________\n",
      "\n",
      "Starting fold 1 for config 0 9 min, 36 sec\n",
      "Starting fold 2 for config 0 9 min, 50 sec\n",
      "Using config: 1\n",
      "{'batch_size': 256, 'batchnorm': True, 'dropout_rate': 0.5, 'hidden_layers': [32, 32], 'learn_rate': 0.001, 'fold': 3}\n",
      "Starting fold 0 for config 1 10 min, 5 sec\n",
      "Model summary for configuration: 1,layers:32|32,learn_rate:0.001,dropout:0.5,batchnorm:True\n",
      "Model Summary:\n",
      "_________________________________________________________________\n",
      "Layer (type)                 Output Shape              Param #   \n",
      "=================================================================\n",
      "dense_28 (Dense)             (None, 32)                6432      \n",
      "_________________________________________________________________\n",
      "batch_normalization_19 (Batc (None, 32)                128       \n",
      "_________________________________________________________________\n",
      "activation_19 (Activation)   (None, 32)                0         \n",
      "_________________________________________________________________\n",
      "dropout_19 (Dropout)         (None, 32)                0         \n",
      "_________________________________________________________________\n",
      "dense_29 (Dense)             (None, 32)                1056      \n",
      "_________________________________________________________________\n",
      "batch_normalization_20 (Batc (None, 32)                128       \n",
      "_________________________________________________________________\n",
      "activation_20 (Activation)   (None, 32)                0         \n",
      "_________________________________________________________________\n",
      "dropout_20 (Dropout)         (None, 32)                0         \n",
      "_________________________________________________________________\n",
      "dense_30 (Dense)             (None, 1)                 33        \n",
      "=================================================================\n",
      "Total params: 7,777\n",
      "Trainable params: 7,649\n",
      "Non-trainable params: 128\n",
      "_________________________________________________________________\n",
      "\n",
      "Starting fold 1 for config 1 10 min, 20 sec\n",
      "Starting fold 2 for config 1 10 min, 36 sec\n"
     ]
    }
   ],
   "source": [
    "logger.log_time('Starting cross-validation')\n",
    "\n",
    "# iterate over grid options and write results\n",
    "for config_idx, config in enumerate(param_grid_options):\n",
    "    # set up model config\n",
    "    learn_rate = config.get('learn_rate')\n",
    "    dropout_rate = config.get('dropout_rate')\n",
    "    batchnorm = config.get('batchnorm')\n",
    "    hidden_layers = config.get('hidden_layers')\n",
    "    \n",
    "    hidden_layers_desc = \"|\".join(np.array(hidden_layers, dtype=str))\n",
    "    config_str = f'{config_idx},layers:{hidden_layers_desc},learn_rate:{learn_rate},dropout:{dropout_rate},batchnorm:{batchnorm}'\n",
    "    write_results(config_outputs, config_str)\n",
    "    logger.log_message(f'Using config: {config_idx}\\n{config}')\n",
    "    \n",
    "    # iterate over cross-validation folds\n",
    "    for fold, (train_index, validate_index) in enumerate(stratified_cv.split(x, y)):\n",
    "        logger.log_time(f'Starting fold {fold} for config {config_idx}')\n",
    "        # prepare input data\n",
    "        x_train, y_train = x.iloc[train_index].values, y.iloc[train_index].values\n",
    "        x_valid, y_valid = x.iloc[validate_index].values, y.iloc[validate_index].values\n",
    "        input_dim = x_train.shape[1]\n",
    "        \n",
    "        # setup callbacks to monitor auc\n",
    "        score_frequency = 2\n",
    "        config['fold'] = fold + 1\n",
    "        validation_auc_callback = KerasAucCallback(score_frequency, x_valid, y_valid)\n",
    "        train_auc_callback = KerasAucCallback(score_frequency, x_train, y_train)\n",
    "        callbacks = [validation_auc_callback, train_auc_callback]\n",
    "        \n",
    "        # create model and log it's description on 1st run\n",
    "        dnn = create_model(input_dim, config)\n",
    "        if fold == 0:\n",
    "            logger.log_message(f'Model summary for configuration: {config_str}')\n",
    "            logger.log_message(model_summary_to_string(dnn))\n",
    "        \n",
    "        # train model\n",
    "        logger.log_time('Starting training...')\n",
    "        history = dnn.fit(x_train, y_train, epochs=epochs, callbacks=callbacks, verbose=0)\n",
    "        logger.log_time('Trainin complete!')\n",
    "        \n",
    "        # write results\n",
    "        prefix = f'{config_idx},{fold}'\n",
    "        validation_aucs = np.array(validation_auc_callback.get_aucs(), dtype=str)\n",
    "        write_results(validation_auc_outputs, f'{prefix},{\",\".join(validation_aucs)}')\n",
    "        train_aucs = np.array(train_auc_callback.get_aucs(), dtype=str)\n",
    "        write_results(train_auc_outputs, f'{prefix},{\",\".join(train_aucs)}')"
   ]
  },
  {
   "cell_type": "code",
   "execution_count": null,
   "metadata": {},
   "outputs": [],
   "source": [
    "logger.log_time('Job complete...')"
   ]
  }
 ],
 "metadata": {
  "kernelspec": {
   "display_name": "Python 3 - Tensorflow",
   "language": "python",
   "name": "python3-tensorflow"
  },
  "language_info": {
   "codemirror_mode": {
    "name": "ipython",
    "version": 3
   },
   "file_extension": ".py",
   "mimetype": "text/x-python",
   "name": "python",
   "nbconvert_exporter": "python",
   "pygments_lexer": "ipython3",
   "version": "3.6.5"
  }
 },
 "nbformat": 4,
 "nbformat_minor": 2
}
