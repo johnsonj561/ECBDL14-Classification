{
 "cells": [
  {
   "cell_type": "code",
   "execution_count": 10,
   "metadata": {
    "scrolled": true
   },
   "outputs": [],
   "source": [
    "import pandas as pd\n",
    "import numpy as np\n",
    "import os\n",
    "import sys\n",
    "import datetime\n",
    "from sklearn.model_selection import StratifiedKFold, ParameterGrid\n",
    "sys.path.append(os.environ['CMS_ROOT'])\n",
    "from cms_modules.utils import model_summary_to_string, args_to_dict\n",
    "from cms_modules.logging import Logger\n",
    "\n",
    "import tensorflow as tf\n",
    "TensorBoard = tf.keras.callbacks.TensorBoard\n",
    "\n",
    "ecbdl14_root = '/home/jjohn273/git/ECBDL14-Classification/'\n",
    "sys.path.append(ecbdl14_root)\n",
    "from model import create_model\n",
    "from CustomCallbacks import KerasThresholdMonitoringCallback"
   ]
  },
  {
   "cell_type": "markdown",
   "metadata": {},
   "source": [
    "### Define DNN Config"
   ]
  },
  {
   "cell_type": "code",
   "execution_count": 11,
   "metadata": {},
   "outputs": [],
   "source": [
    "config = {}\n",
    "hidden_layers_markup='32+32'\n",
    "config['hidden_layers'] = [32,32]\n",
    "config['learn_rate'] = 0.001\n",
    "config['batch_size'] = 128\n",
    "config['dropout_rate'] = 0.5\n",
    "config['batchnorm'] = True\n",
    "epochs=30\n",
    "debug = True"
   ]
  },
  {
   "cell_type": "markdown",
   "metadata": {},
   "source": [
    "### Define I/O Paths"
   ]
  },
  {
   "cell_type": "code",
   "execution_count": 12,
   "metadata": {},
   "outputs": [],
   "source": [
    "# inputs\n",
    "data_path = os.path.join(ecbdl14_root, 'data/ecbdl14.onehot.sample.hdf')\n",
    "data_key = 'train'\n",
    "# outputs\n",
    "now = datetime.datetime.today()\n",
    "ts = now.strftime(\"%m%d%y-%H%M%S\")"
   ]
  },
  {
   "cell_type": "markdown",
   "metadata": {},
   "source": [
    "### Init Output Files"
   ]
  },
  {
   "cell_type": "code",
   "execution_count": 13,
   "metadata": {},
   "outputs": [],
   "source": [
    "config_value = f'layers:{hidden_layers_markup}-learn_rate:{config.get(\"learn_rate\")}'\n",
    "config_value += f'-batch_size:{config.get(\"batch_size\")}-dropout_rate:{config.get(\"dropout_rate\")}-bathcnorm:{config.get(\"batchnorm\")}'\n",
    "\n",
    "# if not os.path.isfile(train_auc_outputs):\n",
    "#     results_header = 'config,fold,' + ','.join([f'ep_{i}' for i in range(epochs)])\n",
    "#     output_files = [train_auc_outputs, validation_auc_outputs]\n",
    "#     output_headers = [results_header,results_header]\n",
    "#     for file, header in zip(output_files, output_headers):\n",
    "#         with open(file, 'w') as fout:\n",
    "#             fout.write(header + '\\n')\n",
    "\n",
    "def write_results(file, results):\n",
    "    with open(file, 'a') as fout:\n",
    "        fout.write(results + '\\n')"
   ]
  },
  {
   "cell_type": "markdown",
   "metadata": {},
   "source": [
    "### Init Logger"
   ]
  },
  {
   "cell_type": "code",
   "execution_count": 5,
   "metadata": {},
   "outputs": [],
   "source": [
    "tensorboard_dir = f'tensorboard/{ts}-{config_value}/'\n",
    "log_file = f'logs/{ts}-{config_value}.txt'\n",
    "logger = Logger(log_file)\n",
    "logger.log_time('Starting grid search job')\n",
    "logger.log_time(f'Outputs being written to {[validation_auc_outputs,train_auc_outputs]}')\n",
    "logger.write_to_file()"
   ]
  },
  {
   "cell_type": "markdown",
   "metadata": {},
   "source": [
    "### Load Data"
   ]
  },
  {
   "cell_type": "code",
   "execution_count": 6,
   "metadata": {},
   "outputs": [],
   "source": [
    "df = pd.read_hdf(data_path, data_key)\n",
    "logger.log_time(f'Loaded data with shape {df.shape}').write_to_file()\n",
    "if debug:\n",
    "    y, x = df[:10000]['target'], df[:10000].drop(columns=['target'])\n",
    "else:\n",
    "    y, x = df['target'], df.drop(columns=['target'])"
   ]
  },
  {
   "cell_type": "code",
   "execution_count": 7,
   "metadata": {},
   "outputs": [],
   "source": [
    "cb = KerasThresholdMonitoringCallback(x, y, logger)\n",
    "tb = TensorBoard(log_dir='logs', histogram_freq=1)\n",
    "callbacks = [cb, tb]"
   ]
  },
  {
   "cell_type": "code",
   "execution_count": 8,
   "metadata": {},
   "outputs": [
    {
     "name": "stdout",
     "output_type": "stream",
     "text": [
      "Model: \"sequential\"\n",
      "_________________________________________________________________\n",
      "Layer (type)                 Output Shape              Param #   \n",
      "=================================================================\n",
      "dense (Dense)                (None, 32)                6432      \n",
      "_________________________________________________________________\n",
      "batch_normalization (BatchNo (None, 32)                128       \n",
      "_________________________________________________________________\n",
      "activation (Activation)      (None, 32)                0         \n",
      "_________________________________________________________________\n",
      "dropout (Dropout)            (None, 32)                0         \n",
      "_________________________________________________________________\n",
      "dense_1 (Dense)              (None, 32)                1056      \n",
      "_________________________________________________________________\n",
      "batch_normalization_1 (Batch (None, 32)                128       \n",
      "_________________________________________________________________\n",
      "activation_1 (Activation)    (None, 32)                0         \n",
      "_________________________________________________________________\n",
      "dropout_1 (Dropout)          (None, 32)                0         \n",
      "_________________________________________________________________\n",
      "dense_2 (Dense)              (None, 1)                 33        \n",
      "=================================================================\n",
      "Total params: 7,777\n",
      "Trainable params: 7,649\n",
      "Non-trainable params: 128\n",
      "_________________________________________________________________\n"
     ]
    }
   ],
   "source": [
    "input_dim = x.shape[1]\n",
    "dnn = create_model(input_dim, config)\n",
    "dnn.summary()"
   ]
  },
  {
   "cell_type": "code",
   "execution_count": 9,
   "metadata": {},
   "outputs": [
    {
     "name": "stdout",
     "output_type": "stream",
     "text": [
      "Train on 10000 samples\n",
      "Epoch 1/30\n",
      "10000/10000 [==============================] - 4s 407us/sample - loss: 0.5668\n",
      "Epoch 2/30\n",
      "10000/10000 [==============================] - 2s 183us/sample - loss: 0.1697\n",
      "Epoch 3/30\n",
      "10000/10000 [==============================] - 2s 177us/sample - loss: 0.1376\n",
      "Epoch 4/30\n",
      "10000/10000 [==============================] - 2s 174us/sample - loss: 0.1321\n",
      "Epoch 5/30\n",
      "10000/10000 [==============================] - 2s 173us/sample - loss: 0.1210\n",
      "Epoch 6/30\n",
      "10000/10000 [==============================] - 2s 178us/sample - loss: 0.1179\n",
      "Epoch 7/30\n",
      "10000/10000 [==============================] - 2s 164us/sample - loss: 0.1097\n",
      "Epoch 8/30\n",
      "10000/10000 [==============================] - 2s 180us/sample - loss: 0.1090\n",
      "Epoch 9/30\n",
      "10000/10000 [==============================] - 2s 170us/sample - loss: 0.1051\n",
      "Epoch 10/30\n",
      "10000/10000 [==============================] - 2s 174us/sample - loss: 0.1027\n",
      "Epoch 11/30\n",
      "10000/10000 [==============================] - 2s 182us/sample - loss: 0.0987\n",
      "Epoch 12/30\n",
      "10000/10000 [==============================] - 2s 176us/sample - loss: 0.0952\n",
      "Epoch 13/30\n",
      "10000/10000 [==============================] - 2s 176us/sample - loss: 0.0934\n",
      "Epoch 14/30\n",
      "10000/10000 [==============================] - 2s 189us/sample - loss: 0.0901\n",
      "Epoch 15/30\n",
      "10000/10000 [==============================] - 2s 190us/sample - loss: 0.0906\n",
      "Epoch 16/30\n",
      "10000/10000 [==============================] - 2s 177us/sample - loss: 0.0911\n",
      "Epoch 17/30\n",
      "10000/10000 [==============================] - 2s 169us/sample - loss: 0.0887\n",
      "Epoch 18/30\n",
      "10000/10000 [==============================] - 2s 183us/sample - loss: 0.0866\n",
      "Epoch 19/30\n",
      "10000/10000 [==============================] - 2s 184us/sample - loss: 0.0855\n",
      "Epoch 20/30\n",
      "10000/10000 [==============================] - 2s 183us/sample - loss: 0.0821\n",
      "Epoch 21/30\n",
      "10000/10000 [==============================] - 2s 198us/sample - loss: 0.0853\n",
      "Epoch 22/30\n",
      "10000/10000 [==============================] - 2s 190us/sample - loss: 0.0779\n",
      "Epoch 23/30\n",
      "10000/10000 [==============================] - 2s 182us/sample - loss: 0.0786\n",
      "Epoch 24/30\n",
      "10000/10000 [==============================] - 2s 191us/sample - loss: 0.0747\n",
      "Epoch 25/30\n",
      "10000/10000 [==============================] - 2s 187us/sample - loss: 0.0748\n",
      "Epoch 26/30\n",
      "10000/10000 [==============================] - 2s 209us/sample - loss: 0.0759\n",
      "Epoch 27/30\n",
      "10000/10000 [==============================] - 2s 203us/sample - loss: 0.0731\n",
      "Epoch 28/30\n",
      "10000/10000 [==============================] - 2s 207us/sample - loss: 0.0732\n",
      "Epoch 29/30\n",
      "10000/10000 [==============================] - 2s 181us/sample - loss: 0.0706\n",
      "Epoch 30/30\n",
      "10000/10000 [==============================] - 2s 207us/sample - loss: 0.0713\n"
     ]
    }
   ],
   "source": [
    "history = dnn.fit(x, y, epochs=epochs, callbacks=callbacks, verbose=1)"
   ]
  },
  {
   "cell_type": "code",
   "execution_count": null,
   "metadata": {},
   "outputs": [],
   "source": []
  }
 ],
 "metadata": {
  "kernelspec": {
   "display_name": "Python 3",
   "language": "python",
   "name": "python3"
  },
  "language_info": {
   "codemirror_mode": {
    "name": "ipython",
    "version": 3
   },
   "file_extension": ".py",
   "mimetype": "text/x-python",
   "name": "python",
   "nbconvert_exporter": "python",
   "pygments_lexer": "ipython3",
   "version": "3.6.9"
  }
 },
 "nbformat": 4,
 "nbformat_minor": 4
}
