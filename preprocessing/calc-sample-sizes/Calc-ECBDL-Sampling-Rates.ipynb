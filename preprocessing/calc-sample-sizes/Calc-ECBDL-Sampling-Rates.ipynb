{
 "cells": [
  {
   "cell_type": "code",
   "execution_count": 1,
   "metadata": {},
   "outputs": [],
   "source": [
    "import pandas as pd"
   ]
  },
  {
   "cell_type": "code",
   "execution_count": 2,
   "metadata": {},
   "outputs": [],
   "source": [
    "hdf5_path = '/home/jjohn273/git/ECBDL14-Classification/data/ecbdl14.onehot.sample.hdf'\n",
    "train_key = 'train'\n",
    "\n",
    "df = pd.read_hdf(hdf5_path, train_key)"
   ]
  },
  {
   "cell_type": "code",
   "execution_count": 3,
   "metadata": {},
   "outputs": [
    {
     "data": {
      "text/plain": [
       "2800000"
      ]
     },
     "execution_count": 3,
     "metadata": {},
     "output_type": "execute_result"
    }
   ],
   "source": [
    "train_count = len(df)\n",
    "train_count"
   ]
  },
  {
   "cell_type": "code",
   "execution_count": 5,
   "metadata": {},
   "outputs": [
    {
     "data": {
      "text/plain": [
       "59960"
      ]
     },
     "execution_count": 5,
     "metadata": {},
     "output_type": "execute_result"
    }
   ],
   "source": [
    "pos_count = len(df.loc[df['target'] == 1])\n",
    "pos_count"
   ]
  },
  {
   "cell_type": "code",
   "execution_count": 6,
   "metadata": {},
   "outputs": [
    {
     "data": {
      "text/plain": [
       "2740040"
      ]
     },
     "execution_count": 6,
     "metadata": {},
     "output_type": "execute_result"
    }
   ],
   "source": [
    "neg_count = train_count - pos_count\n",
    "neg_count"
   ]
  },
  {
   "cell_type": "markdown",
   "metadata": {},
   "source": [
    "### RUS Rates"
   ]
  },
  {
   "cell_type": "code",
   "execution_count": 7,
   "metadata": {},
   "outputs": [],
   "source": [
    "def get_rus_rate(pos_ratio):\n",
    "    return (pos_count * (1 - pos_ratio)) / (pos_ratio * neg_count)"
   ]
  },
  {
   "cell_type": "code",
   "execution_count": 10,
   "metadata": {},
   "outputs": [
    {
     "data": {
      "text/plain": [
       "[(5, 0.415774952190479),\n",
       " (10, 0.19694602998496372),\n",
       " (20, 0.0875315688822061),\n",
       " (30, 0.051060081847953555),\n",
       " (40, 0.032824338330827284),\n",
       " (50, 0.021882892220551526),\n",
       " (60, 0.014588594813701016),\n",
       " (70, 0.009378382380236371),\n",
       " (80, 0.005470723055137881),\n",
       " (90, 0.002431432468950169)]"
      ]
     },
     "execution_count": 10,
     "metadata": {},
     "output_type": "execute_result"
    }
   ],
   "source": [
    "positive_ratios = [5, 10, 20, 30, 40, 50, 60, 70, 80, 90]\n",
    "\n",
    "rus_rates = [get_rus_rate(ratio / 100) for ratio in positive_ratios]\n",
    "list(zip(positive_ratios, rus_rates))"
   ]
  },
  {
   "cell_type": "markdown",
   "metadata": {},
   "source": [
    "### ROS Rates"
   ]
  },
  {
   "cell_type": "code",
   "execution_count": 11,
   "metadata": {},
   "outputs": [],
   "source": [
    "def get_ros_rate(pos_ratio):\n",
    "    return (pos_ratio * neg_count) / (pos_count * (1 - pos_ratio))"
   ]
  },
  {
   "cell_type": "code",
   "execution_count": 13,
   "metadata": {},
   "outputs": [
    {
     "data": {
      "text/plain": [
       "[(0.5, 0.22963717855454727), (1, 0.4615939245692415)]"
      ]
     },
     "execution_count": 13,
     "metadata": {},
     "output_type": "execute_result"
    }
   ],
   "source": [
    "positive_ratios = [0.5, 1]\n",
    "ros_rates = [get_ros_rate(ratio / 100) for ratio in positive_ratios]\n",
    "list(zip(positive_ratios, ros_rates))"
   ]
  },
  {
   "cell_type": "code",
   "execution_count": null,
   "metadata": {},
   "outputs": [],
   "source": []
  }
 ],
 "metadata": {
  "kernelspec": {
   "display_name": "Python 3",
   "language": "python",
   "name": "python3"
  },
  "language_info": {
   "codemirror_mode": {
    "name": "ipython",
    "version": 3
   },
   "file_extension": ".py",
   "mimetype": "text/x-python",
   "name": "python",
   "nbconvert_exporter": "python",
   "pygments_lexer": "ipython3",
   "version": "3.6.4"
  }
 },
 "nbformat": 4,
 "nbformat_minor": 2
}
